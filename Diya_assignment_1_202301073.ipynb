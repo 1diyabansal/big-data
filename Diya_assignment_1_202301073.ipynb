{
  "nbformat": 4,
  "nbformat_minor": 0,
  "metadata": {
    "colab": {
      "provenance": []
    },
    "kernelspec": {
      "name": "python3",
      "display_name": "Python 3"
    },
    "language_info": {
      "name": "python"
    }
  },
  "cells": [
    {
      "cell_type": "code",
      "execution_count": 3,
      "metadata": {
        "colab": {
          "base_uri": "https://localhost:8080/"
        },
        "id": "BVnPfSDB_cX2",
        "outputId": "5fc2777f-1543-48b7-bf88-52cb928b3120"
      },
      "outputs": [
        {
          "output_type": "stream",
          "name": "stdout",
          "text": [
            "[5 4 6 3 2 1]\n"
          ]
        }
      ],
      "source": [
        "import numpy as np\n",
        "\n",
        "\n",
        "arr= np.array([1, 2, 3, 6, 4, 5])\n",
        "arr1=np.flip(arr)\n",
        "print(arr1)"
      ]
    },
    {
      "cell_type": "code",
      "source": [
        "arr1 = np.array([[1, 2], [3, 4]])\n",
        "arr2 = np.array([[1, 2], [3, 4]])\n",
        "print(np.equal(arr1,arr2))\n",
        "\n",
        "#also there is another method\n",
        "'''arr1 = np.array([[1, 2], [3, 4]])\n",
        "arr2 = np.array([[1, 2], [3, 4]])\n",
        "equal=np.equal_array(arr1,arr2)\n",
        "if equal:\n",
        "  print('arrays are equal')\n",
        "else:\n",
        "  print('arrays are not equal')'''"
      ],
      "metadata": {
        "colab": {
          "base_uri": "https://localhost:8080/"
        },
        "id": "qPj4kZdnGzQA",
        "outputId": "7236095a-99ff-4c1a-97dd-213529d926da"
      },
      "execution_count": null,
      "outputs": [
        {
          "output_type": "stream",
          "name": "stdout",
          "text": [
            "[[ True  True]\n",
            " [ True  True]]\n"
          ]
        }
      ]
    },
    {
      "cell_type": "code",
      "source": [
        "x = np.array([1, 2, 3, 4, 5, 1, 2, 1, 1, 1])\n",
        "\n",
        "# Find unique values and their counts\n",
        "unique_values_x, counts_x = np.unique(x, return_counts=True)\n",
        "\n",
        "\n",
        "most_frequent_index_x = np.argmax(counts_x)\n",
        "most_frequent_value_x = unique_values_x[most_frequent_index_x]\n",
        "indices_x = np.where(x == most_frequent_value_x)[0]\n",
        "\n",
        "print(\"For array x:\")\n",
        "print(\"Most frequent value:\", most_frequent_value_x)\n",
        "print(\"Indices of the most frequent value(s):\", indices_x)\n",
        "\n",
        "# y\n",
        "y = np.array([1, 1, 1, 2, 3, 4, 2, 4, 3, 3])\n",
        "unique_values_y, counts_y = np.unique(y, return_counts=True)\n",
        "most_frequent_index_y = np.argmax(counts_y)\n",
        "most_frequent_value_y = unique_values_y[most_frequent_index_y]\n",
        "indices_y = np.where(y == most_frequent_value_y)[0]\n",
        "\n",
        "print(\"\\nFor array y:\")\n",
        "print(\"Most frequent value:\", most_frequent_value_y)\n",
        "print(\"Indices of the most frequent value(s):\", indices_y)\n"
      ],
      "metadata": {
        "colab": {
          "base_uri": "https://localhost:8080/"
        },
        "id": "l7P6E_HMJMd4",
        "outputId": "f6464d12-aab7-43f2-af50-d1d94826d240"
      },
      "execution_count": 4,
      "outputs": [
        {
          "output_type": "stream",
          "name": "stdout",
          "text": [
            "For array x:\n",
            "Most frequent value: 1\n",
            "Indices of the most frequent value(s): [0 5 7 8 9]\n",
            "\n",
            "For array y:\n",
            "Most frequent value: 1\n",
            "Indices of the most frequent value(s): [0 1 2]\n"
          ]
        }
      ]
    },
    {
      "cell_type": "code",
      "source": [
        "gfg = np.matrix('[4, 1, 9;12, 3, 1;4, 5, 6]')\n",
        "\n",
        "#  Sum\n",
        "total_sum = np.sum(gfg)\n",
        "\n",
        "#  Sum  row-wise\n",
        "row_sum = np.sum(gfg, axis=1)\n",
        "\n",
        "#  Sum  column-wise\n",
        "col_sum = np.sum(gfg, axis=0)\n",
        "\n",
        "\n",
        "print(\"Matrix:\")\n",
        "print(gfg)\n",
        "\n",
        "print(\"Sum of all elements:\", total_sum)\n",
        "\n",
        "print(\" Sum of all elements row-wise:\")\n",
        "print(row_sum)\n",
        "\n",
        "print(\" Sum of all elements column-wise:\")\n",
        "print(col_sum)"
      ],
      "metadata": {
        "colab": {
          "base_uri": "https://localhost:8080/"
        },
        "id": "iiNkIXbT1U7u",
        "outputId": "c15f552a-b505-4afc-f874-e516f5248910"
      },
      "execution_count": 6,
      "outputs": [
        {
          "output_type": "stream",
          "name": "stdout",
          "text": [
            "Matrix:\n",
            "[[ 4  1  9]\n",
            " [12  3  1]\n",
            " [ 4  5  6]]\n",
            "Sum of all elements: 45\n",
            " Sum of all elements row-wise:\n",
            "[[14]\n",
            " [16]\n",
            " [15]]\n",
            " Sum of all elements column-wise:\n",
            "[[20  9 16]]\n"
          ]
        }
      ]
    },
    {
      "cell_type": "code",
      "source": [],
      "metadata": {
        "id": "XyjS8GpC1UrV"
      },
      "execution_count": null,
      "outputs": []
    }
  ]
}