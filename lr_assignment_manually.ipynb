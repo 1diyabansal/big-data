{
  "nbformat": 4,
  "nbformat_minor": 0,
  "metadata": {
    "colab": {
      "provenance": [],
      "authorship_tag": "ABX9TyMoK4rNW3FBOgq2Cm6envkn",
      "include_colab_link": true
    },
    "kernelspec": {
      "name": "python3",
      "display_name": "Python 3"
    },
    "language_info": {
      "name": "python"
    }
  },
  "cells": [
    {
      "cell_type": "markdown",
      "metadata": {
        "id": "view-in-github",
        "colab_type": "text"
      },
      "source": [
        "<a href=\"https://colab.research.google.com/github/1diyabansal/big-data/blob/main/lr_assignment_manually.ipynb\" target=\"_parent\"><img src=\"https://colab.research.google.com/assets/colab-badge.svg\" alt=\"Open In Colab\"/></a>"
      ]
    },
    {
      "cell_type": "code",
      "source": [
        "import pandas as pd\n",
        "df = pd.DataFrame({'x': [2, 4, 6, 8], 'y': [3, 7, 5, 10]})\n",
        "import numpy as np\n",
        "\n",
        "# Calculate the mean of x and y\n",
        "x_mean = df['x'].mean()\n",
        "y_mean = df['y'].mean()\n",
        "# Calculate the slope of the regression line\n",
        "slope = sum((df['x'] - x_mean) * (df['y'] - y_mean)) / sum((df['x'] - x_mean) ** 2)\n",
        "\n",
        "# Calculate the intercept of the regression line\n",
        "intercept = y_mean - slope * x_mean\n",
        "# Print the equation of the regression line\n",
        "print(f'y = {slope}x + {intercept}')"
      ],
      "metadata": {
        "colab": {
          "base_uri": "https://localhost:8080/"
        },
        "id": "fj_aiKx21qDT",
        "outputId": "912e7618-7c7c-4da9-96e2-50e49a4646e3"
      },
      "execution_count": 9,
      "outputs": [
        {
          "output_type": "stream",
          "name": "stdout",
          "text": [
            "y = 0.95x + 1.5\n"
          ]
        }
      ]
    },
    {
      "cell_type": "code",
      "source": [
        "new_x = 5\n",
        "\n",
        "predicted_y = slope * new_x + intercept\n",
        "\n",
        "print(f'Predicted y for x = {new_x}: {predicted_y}')"
      ],
      "metadata": {
        "colab": {
          "base_uri": "https://localhost:8080/"
        },
        "id": "vUjb2R2C1arl",
        "outputId": "df9173a3-3117-4cfa-fab9-76a8631284d4"
      },
      "execution_count": 10,
      "outputs": [
        {
          "output_type": "stream",
          "name": "stdout",
          "text": [
            "Predicted y for x = 5: 6.25\n"
          ]
        }
      ]
    },
    {
      "cell_type": "code",
      "source": [
        "import matplotlib.pyplot as plt\n",
        "\n",
        "# Plot the data points\n",
        "plt.scatter(df['x'], df['y'])\n",
        "\n",
        "# Plot the regression line\n",
        "plt.plot(df['x'], slope * df['x'] + intercept, color='red')\n",
        "\n",
        "# Plot the predicted value for the new x value\n",
        "plt.scatter(new_x, predicted_y, color='green')\n",
        "\n",
        "# Add labels and title\n",
        "plt.xlabel('X')\n",
        "plt.ylabel('Y')\n",
        "plt.title('Regression Line')\n",
        "\n",
        "# Display the plot\n",
        "plt.show()\n"
      ],
      "metadata": {
        "colab": {
          "base_uri": "https://localhost:8080/",
          "height": 472
        },
        "id": "n9Y8aN0g2DEm",
        "outputId": "f3e9bc65-8eda-4f58-a268-c802b2251556"
      },
      "execution_count": 12,
      "outputs": [
        {
          "output_type": "display_data",
          "data": {
            "text/plain": [
              "<Figure size 640x480 with 1 Axes>"
            ],
            "image/png": "[encoded data removed]"
          },
          "metadata": {}
        }
      ]
    }
  ]
}